{
 "cells": [
  {
   "cell_type": "code",
   "execution_count": null,
   "outputs": [],
   "source": [
    "import pandas as pd\n",
    "import numpy as np\n",
    "import scipy.stats as ss\n",
    "import seaborn as sns\n",
    "\n",
    "from matplotlib import pyplot as plt"
   ],
   "metadata": {
    "collapsed": false,
    "pycharm": {
     "name": "#%%\n"
    }
   }
  },
  {
   "cell_type": "code",
   "execution_count": null,
   "outputs": [],
   "source": [
    "def creat_log_normal(data):\n",
    "    \"\"\"create theoretical log normal distribution with observed values\"\"\"\n",
    "    s, loc, scale = ss.lognorm.fit(data)\n",
    "    return ss.lognorm.rvs(s, loc, scale, size=len(data))"
   ],
   "metadata": {
    "collapsed": false,
    "pycharm": {
     "name": "#%%\n"
    }
   }
  },
  {
   "cell_type": "code",
   "execution_count": null,
   "outputs": [],
   "source": [
    "def compare_log_normal_with(data):\n",
    "    \"\"\"compare dists using histogram\"\"\"\n",
    "    plt.figure(figsize=[12, 6], dpi=300)\n",
    "    sns.kdeplot(x=creat_log_normal(data), shade=False, label='theoretical distribution')\n",
    "    sns.kdeplot(x=data, shade=False, label='observed distribution')\n",
    "    plt.legend()\n",
    "    plt.show()\n",
    "    return"
   ],
   "metadata": {
    "collapsed": false,
    "pycharm": {
     "name": "#%%\n"
    }
   }
  },
  {
   "cell_type": "code",
   "execution_count": null,
   "outputs": [],
   "source": [
    "def normalization(data, y):\n",
    "    \"\"\"apply normalization on observed data\"\"\"\n",
    "    figure, axes = plt.subplots(nrows=2, ncols=2, figsize=[24, 8], dpi=300)\n",
    "    transformed = np.log((data + 0.0001))\n",
    "    axes = axes.ravel()\n",
    "\n",
    "    sns.scatterplot(x=(data + 0.0001), y=y, label='before', ax=axes[0])\n",
    "    axes[0].set_legend()\n",
    "    sns.kdeplot(x=data, shade=True, label='before', ax=axes[1])\n",
    "    axes[1].set_legend()\n",
    "    sns.scatterplot(x=transformed, y=y, label='after', ax=axes[2])\n",
    "    axes[2].set_legend()\n",
    "    sns.kdeplot(x=transformed, shade=True, label='after', ax=axes[3])\n",
    "    axes[3].set_legend()\n",
    "    plt.show()\n",
    "    return"
   ],
   "metadata": {
    "collapsed": false,
    "pycharm": {
     "name": "#%%\n"
    }
   }
  },
  {
   "cell_type": "code",
   "execution_count": null,
   "outputs": [],
   "source": [
    "def quantile_quantile_plot(data, dist):\n",
    "    \"\"\"create qq plot\"\"\"\n",
    "    bins = np.linspace(0, 100, data.shape[0])\n",
    "    std_norm = np.percentile(np.random.standard_normal(data.shape[0]), bins)\n",
    "    input_data = np.percentile(data, bins)\n",
    "    trans_input_data = np.percentile(np.log(data, bins))\n",
    "\n",
    "    plt.figure(figsize=[12, 6], dpi=300)\n",
    "    sns.regplot(x=std_norm, y=input_data)\n",
    "    sns.regplot(x=std_norm, y=trans_input_data)\n",
    "    plt.xlabel('theoretical distribution')\n",
    "    plt.ylabel('observed distribution')\n",
    "    plt.show()\n",
    "    return"
   ],
   "metadata": {
    "collapsed": false,
    "pycharm": {
     "name": "#%%\n"
    }
   }
  },
  {
   "cell_type": "code",
   "execution_count": null,
   "outputs": [],
   "source": [
    "tb_cont_data = pd.read_csv('../../data/train.csv', index_col='id')\n",
    "tb_cont_data = tb_cont_data.loc[:, 'cont0':'cont13']\n",
    "tb_cont_data"
   ],
   "metadata": {
    "collapsed": false,
    "pycharm": {
     "name": "#%%\n"
    }
   }
  }
 ],
 "metadata": {
  "kernelspec": {
   "display_name": "Python 3",
   "language": "python",
   "name": "python3"
  },
  "language_info": {
   "codemirror_mode": {
    "name": "ipython",
    "version": 2
   },
   "file_extension": ".py",
   "mimetype": "text/x-python",
   "name": "python",
   "nbconvert_exporter": "python",
   "pygments_lexer": "ipython2",
   "version": "2.7.6"
  }
 },
 "nbformat": 4,
 "nbformat_minor": 0
}