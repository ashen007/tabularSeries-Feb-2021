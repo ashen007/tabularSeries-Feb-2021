{
 "cells": [
  {
   "cell_type": "code",
   "execution_count": null,
   "outputs": [],
   "source": [
    "import pandas as pd\n",
    "import numpy as np\n",
    "import scipy.stats as ss\n",
    "import seaborn as sns\n",
    "\n",
    "from matplotlib import pyplot as plt"
   ],
   "metadata": {
    "collapsed": false,
    "pycharm": {
     "name": "#%%\n"
    }
   }
  },
  {
   "cell_type": "code",
   "execution_count": null,
   "outputs": [],
   "source": [
    "def creat_log_normal(data):\n",
    "    \"\"\"create theoretical log normal distribution with observed values\"\"\"\n",
    "    s, loc, scale = ss.lognorm.fit(data)\n",
    "    return ss.lognorm.rvs(s, loc, scale, size=len(data))"
   ],
   "metadata": {
    "collapsed": false,
    "pycharm": {
     "name": "#%%\n"
    }
   }
  },
  {
   "cell_type": "code",
   "execution_count": null,
   "outputs": [],
   "source": [
    "def compare_log_normal_with(data):\n",
    "    \"\"\"compare dists using histogram\"\"\"\n",
    "    plt.figure(figsize=[12, 6], dpi=300)\n",
    "    sns.kdeplot(x=creat_log_normal(data), shade=False, label='theoretical distribution')\n",
    "    sns.kdeplot(x=data, shade=False, label='observed distribution')\n",
    "    plt.legend()\n",
    "    plt.show()\n",
    "    return"
   ],
   "metadata": {
    "collapsed": false,
    "pycharm": {
     "name": "#%%\n"
    }
   }
  },
  {
   "cell_type": "code",
   "execution_count": null,
   "outputs": [],
   "source": [
    "def normalization(data, y):\n",
    "    \"\"\"apply normalization on observed data\"\"\"\n",
    "    figure, axes = plt.subplots(nrows=2, ncols=2, figsize=[24, 8], dpi=300)\n",
    "    transformed = np.log((data + 0.0001))\n",
    "    axes = axes.ravel()\n",
    "\n",
    "    sns.scatterplot(x=(data + 0.0001), y=y, label='before', ax=axes[0])\n",
    "    axes[0].set_legend()\n",
    "    sns.kdeplot(x=data, shade=True, label='before', ax=axes[1])\n",
    "    axes[1].set_legend()\n",
    "    sns.scatterplot(x=transformed, y=y, label='after', ax=axes[2])\n",
    "    axes[2].set_legend()\n",
    "    sns.kdeplot(x=transformed, shade=True, label='after', ax=axes[3])\n",
    "    axes[3].set_legend()\n",
    "    plt.show()\n",
    "    return\n"
   ],
   "metadata": {
    "collapsed": false,
    "pycharm": {
     "name": "#%%\n"
    }
   }
  }
 ],
 "metadata": {
  "kernelspec": {
   "display_name": "Python 3",
   "language": "python",
   "name": "python3"
  },
  "language_info": {
   "codemirror_mode": {
    "name": "ipython",
    "version": 2
   },
   "file_extension": ".py",
   "mimetype": "text/x-python",
   "name": "python",
   "nbconvert_exporter": "python",
   "pygments_lexer": "ipython2",
   "version": "2.7.6"
  }
 },
 "nbformat": 4,
 "nbformat_minor": 0
}